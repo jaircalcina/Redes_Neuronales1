{
  "nbformat": 4,
  "nbformat_minor": 0,
  "metadata": {
    "colab": {
      "provenance": [],
      "authorship_tag": "ABX9TyOTDTXuImK+L12ZSszJCXEI",
      "include_colab_link": true
    },
    "kernelspec": {
      "name": "python3",
      "display_name": "Python 3"
    },
    "language_info": {
      "name": "python"
    }
  },
  "cells": [
    {
      "cell_type": "markdown",
      "metadata": {
        "id": "view-in-github",
        "colab_type": "text"
      },
      "source": [
        "<a href=\"https://colab.research.google.com/github/jaircalcina/Redes_Neuronales1/blob/main/Untitled0.ipynb\" target=\"_parent\"><img src=\"https://colab.research.google.com/assets/colab-badge.svg\" alt=\"Open In Colab\"/></a>"
      ]
    },
    {
      "cell_type": "markdown",
      "source": [],
      "metadata": {
        "id": "hI31aqERIYVr"
      }
    },
    {
      "cell_type": "code",
      "execution_count": 7,
      "metadata": {
        "colab": {
          "base_uri": "https://localhost:8080/"
        },
        "id": "CtHTWg8B-o8_",
        "outputId": "c462e1e5-b083-41ca-8775-ea98e258c46b"
      },
      "outputs": [
        {
          "output_type": "stream",
          "name": "stdout",
          "text": [
            "La suma de 10 y 5 es: 15\n"
          ]
        }
      ],
      "source": [
        "2# prompt: crar un sumador de dos numeros\n",
        "\n",
        "def sumador(num1, num2):\n",
        "  \"\"\"\n",
        "  Función que suma dos números.\n",
        "\n",
        "  Args:\n",
        "      num1: El primer número.\n",
        "      num2: El segundo número.\n",
        "\n",
        "  Returns:\n",
        "      La suma de los dos números.\n",
        "  \"\"\"\n",
        "  return num1 + num2\n",
        "\n",
        "\n",
        "# Ejemplo de uso\n",
        "numero1 = 10\n",
        "numero2 = 5\n",
        "resultado = sumador(numero1, numero2)\n",
        "print(f\"La suma de {numero1} y {numero2} es: {resultado}\")\n"
      ]
    },
    {
      "cell_type": "markdown",
      "source": [],
      "metadata": {
        "id": "DlLLOrlyFnbf"
      }
    },
    {
      "cell_type": "markdown",
      "source": [],
      "metadata": {
        "id": "ftglDOkTFoLV"
      }
    },
    {
      "cell_type": "code",
      "source": [
        "num1 = float(input(\"Ingresa el primer número: \"))\n",
        "num2 = float(input(\"Ingresa el segundo número: \"))\n",
        "\n",
        "resultado = num1 * num2\n",
        "\n",
        "print(\"El resultado de la multiplicación es:\", resultado)"
      ],
      "metadata": {
        "colab": {
          "base_uri": "https://localhost:8080/"
        },
        "id": "kuZv_psIFpnd",
        "outputId": "1c8b0f51-5545-4945-a70c-d8cbf8bb6c75"
      },
      "execution_count": 9,
      "outputs": [
        {
          "output_type": "stream",
          "name": "stdout",
          "text": [
            "Ingresa el primer número: 2\n",
            "Ingresa el segundo número: 3\n",
            "El resultado de la multiplicación es: 6.0\n"
          ]
        }
      ]
    },
    {
      "cell_type": "code",
      "source": [
        "!python --version"
      ],
      "metadata": {
        "colab": {
          "base_uri": "https://localhost:8080/"
        },
        "id": "XdyIDWy3G2A2",
        "outputId": "01d49d40-fc9f-480c-d3d9-f2f88508970b"
      },
      "execution_count": 11,
      "outputs": [
        {
          "output_type": "stream",
          "name": "stdout",
          "text": [
            "Python 3.10.12\n"
          ]
        }
      ]
    },
    {
      "cell_type": "code",
      "source": [
        "def quicksort(arr):\n",
        "  if len(arr) <= 1:\n",
        "    return arr\n",
        "  pivot = arr[len(arr) // 2]\n",
        "  left = [x for x in arr if x < pivot]\n",
        "  middle = [x for x in arr if x == pivot]\n",
        "  right = [x for x in arr if x > pivot]\n",
        "  return quicksort(left) + middle + quicksort(right)\n",
        "\n",
        "print(quicksort([1, 1, 2, 3, 6, 8, 10]))"
      ],
      "metadata": {
        "colab": {
          "base_uri": "https://localhost:8080/"
        },
        "id": "urAmCn_LITVE",
        "outputId": "77fa09dd-630d-41c4-a82d-0261928d8516"
      },
      "execution_count": 16,
      "outputs": [
        {
          "output_type": "stream",
          "name": "stdout",
          "text": [
            "[1, 1, 2, 3, 6, 8, 10]\n"
          ]
        }
      ]
    },
    {
      "cell_type": "code",
      "source": [],
      "metadata": {
        "id": "IN-IoYk-MQ6C"
      },
      "execution_count": null,
      "outputs": []
    },
    {
      "cell_type": "code",
      "source": [
        "xs = [3, 1, 2]\n",
        "print(xs, xs[2])\n",
        "print(xs[-1])\n",
        "xs[2] = 'foo'\n",
        "print(xs)\n",
        "xs.append('bar')\n",
        "print(xs)\n",
        "x = xs.pop()\n",
        "print(x, xs)"
      ],
      "metadata": {
        "colab": {
          "base_uri": "https://localhost:8080/"
        },
        "id": "7GXW4RcfLfIL",
        "outputId": "7937061a-b649-44b4-c0c3-6ddba7bcc6e8"
      },
      "execution_count": 17,
      "outputs": [
        {
          "output_type": "stream",
          "name": "stdout",
          "text": [
            "[3, 1, 2] 2\n",
            "2\n",
            "[3, 1, 'foo']\n",
            "[3, 1, 'foo', 'bar']\n",
            "bar [3, 1, 'foo']\n"
          ]
        }
      ]
    },
    {
      "cell_type": "code",
      "source": [
        "nums = list(range(5))\n",
        "print(nums)\n",
        "print(nums[2:4])\n",
        "print(nums[2:])\n",
        "print(nums[:2])\n",
        "print(nums[:])\n",
        "print(nums[:-1])\n",
        "nums[2:4] = [8, 9]\n",
        "print(nums)"
      ],
      "metadata": {
        "colab": {
          "base_uri": "https://localhost:8080/"
        },
        "id": "1BFu1XfVMSPZ",
        "outputId": "0d3e41e2-83b8-4c72-90c1-61d1e4df8e51"
      },
      "execution_count": 18,
      "outputs": [
        {
          "output_type": "stream",
          "name": "stdout",
          "text": [
            "[0, 1, 2, 3, 4]\n",
            "[2, 3]\n",
            "[2, 3, 4]\n",
            "[0, 1]\n",
            "[0, 1, 2, 3, 4]\n",
            "[0, 1, 2, 3]\n",
            "[0, 1, 8, 9, 4]\n"
          ]
        }
      ]
    },
    {
      "cell_type": "code",
      "source": [
        "animals = ['cat', 'dog', 'monkey']\n",
        "for animal in animals:\n",
        "  print(animal)\n",
        "\n",
        "animals = ['cat', 'dog', 'monkey']\n",
        "for idx, animal in enumerate(animals):\n",
        "  print('#%d: %s' % (idx + 1, animal))"
      ],
      "metadata": {
        "colab": {
          "base_uri": "https://localhost:8080/"
        },
        "id": "Kb-1-x1wNGXq",
        "outputId": "787b7548-c185-4b13-efd9-3fa094a20888"
      },
      "execution_count": 20,
      "outputs": [
        {
          "output_type": "stream",
          "name": "stdout",
          "text": [
            "cat\n",
            "dog\n",
            "monkey\n",
            "#1: cat\n",
            "#2: dog\n",
            "#3: monkey\n"
          ]
        }
      ]
    },
    {
      "cell_type": "code",
      "source": [
        "def sign(x):\n",
        "  if x > 0:\n",
        "    return 'positive'\n",
        "  elif x < 0:\n",
        "    return 'negative'\n",
        "  else:\n",
        "    return 'zero'\n",
        "\n",
        "  for x in [-1, 0, 1]:\n",
        "    print(sign(x))"
      ],
      "metadata": {
        "id": "XKfk8QgSNTlp"
      },
      "execution_count": 30,
      "outputs": []
    },
    {
      "cell_type": "code",
      "source": [
        "class Greeter(object):\n",
        "  def __init__(self, name):\n",
        "    self.name = name"
      ],
      "metadata": {
        "id": "qqfe8LniNzeZ"
      },
      "execution_count": null,
      "outputs": []
    }
  ]
}