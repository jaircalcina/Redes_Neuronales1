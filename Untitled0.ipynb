{
  "nbformat": 4,
  "nbformat_minor": 0,
  "metadata": {
    "colab": {
      "provenance": [],
      "authorship_tag": "ABX9TyMfz3DpqHmY4XXoKZhl5VW5",
      "include_colab_link": true
    },
    "kernelspec": {
      "name": "python3",
      "display_name": "Python 3"
    },
    "language_info": {
      "name": "python"
    }
  },
  "cells": [
    {
      "cell_type": "markdown",
      "metadata": {
        "id": "view-in-github",
        "colab_type": "text"
      },
      "source": [
        "<a href=\"https://colab.research.google.com/github/jaircalcina/Redes_Neuronales1/blob/main/Untitled0.ipynb\" target=\"_parent\"><img src=\"https://colab.research.google.com/assets/colab-badge.svg\" alt=\"Open In Colab\"/></a>"
      ]
    },
    {
      "cell_type": "code",
      "execution_count": null,
      "metadata": {
        "colab": {
          "base_uri": "https://localhost:8080/"
        },
        "id": "CtHTWg8B-o8_",
        "outputId": "2112c1e6-b9f4-41f0-a98b-1db6f6ef9672"
      },
      "outputs": [
        {
          "output_type": "stream",
          "name": "stdout",
          "text": [
            "La suma de 10 y 5 es: 15\n"
          ]
        }
      ],
      "source": [
        "2# prompt: crar un sumador de dos numeros\n",
        "\n",
        "def sumador(num1, num2):\n",
        "  \"\"\"\n",
        "  Función que suma dos números.\n",
        "\n",
        "  Args:\n",
        "      num1: El primer número.\n",
        "      num2: El segundo número.\n",
        "\n",
        "  Returns:\n",
        "      La suma de los dos números.\n",
        "  \"\"\"\n",
        "  return num1 + num2\n",
        "\n",
        "\n",
        "# Ejemplo de uso\n",
        "numero1 = 10\n",
        "numero2 = 5\n",
        "resultado = sumador(numero1, numero2)\n",
        "print(f\"La suma de {numero1} y {numero2} es: {resultado}\")\n"
      ]
    }
  ]
}